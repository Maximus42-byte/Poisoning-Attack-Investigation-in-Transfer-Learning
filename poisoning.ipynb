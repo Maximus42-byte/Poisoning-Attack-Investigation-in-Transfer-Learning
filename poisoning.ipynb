{
  "cells": [
    {
      "cell_type": "markdown",
      "metadata": {
        "id": "YEXYZCDJ5Xi-"
      },
      "source": [
        "**Name: Mahdi Saieedi**\n",
        "\n",
        "**Student Number: 401207254**"
      ]
    },
    {
      "cell_type": "markdown",
      "metadata": {
        "id": "04CrrIX25XjA"
      },
      "source": [
        "In this notebook we investigate how effective the poisoning attacks are when applied to two different transfer learning scenarios. Particularly we are intersted to attack a model such that it predicts a nice deer instance as a truck while maintaining clean acurracy on the test set.\n",
        "\n",
        "Note: Don't panic if you see lots of TODOs! They are mostly easy and short."
      ]
    },
    {
      "cell_type": "markdown",
      "metadata": {
        "id": "3sU6uDW05XjB"
      },
      "source": [
        "# Downloading data and model set-up"
      ]
    },
    {
      "cell_type": "code",
      "execution_count": 1,
      "metadata": {
        "id": "VHfB6ILW5XjC"
      },
      "outputs": [],
      "source": [
        "import torch\n",
        "import torch.nn.functional as F\n",
        "import torch.nn as nn\n",
        "import torch.optim as optim\n",
        "import torchvision.utils\n",
        "from torch.utils.data import DataLoader, TensorDataset, ConcatDataset\n",
        "import torchvision.transforms as transforms\n",
        "from torchvision.models import resnet18, ResNet18_Weights\n",
        "import numpy as np\n",
        "from tqdm import tqdm\n",
        "import matplotlib.pyplot as plt"
      ]
    },
    {
      "cell_type": "code",
      "execution_count": 2,
      "metadata": {
        "id": "Aldmlits5XjD",
        "colab": {
          "base_uri": "https://localhost:8080/"
        },
        "outputId": "90771a2c-83a9-41ed-cec8-4031192137cd"
      },
      "outputs": [
        {
          "output_type": "stream",
          "name": "stdout",
          "text": [
            "Downloading https://www.cs.toronto.edu/~kriz/cifar-10-python.tar.gz to ./data/cifar-10-python.tar.gz\n"
          ]
        },
        {
          "output_type": "stream",
          "name": "stderr",
          "text": [
            "100%|██████████| 170498071/170498071 [00:01<00:00, 98282023.60it/s] \n"
          ]
        },
        {
          "output_type": "stream",
          "name": "stdout",
          "text": [
            "Extracting ./data/cifar-10-python.tar.gz to ./data\n",
            "Files already downloaded and verified\n"
          ]
        }
      ],
      "source": [
        "transform = transforms.Compose([transforms.ToTensor()])\n",
        "\n",
        "trainset = torchvision.datasets.CIFAR10(root='./data', train=True,\n",
        "                                        download=True, transform=transform)\n",
        "\n",
        "testset = torchvision.datasets.CIFAR10(root='./data', train=False,\n",
        "                                       download=True, transform=transform)\n",
        "\n",
        "batch_size = 128\n",
        "\n",
        "trainloader = DataLoader(trainset, batch_size=batch_size, shuffle=True)\n",
        "testloader = DataLoader(testset, batch_size=batch_size, shuffle=False)\n",
        "\n",
        "classes = ('plane', 'car', 'bird', 'cat',\n",
        "           'deer', 'dog', 'frog', 'horse', 'ship', 'truck')\n",
        "\n",
        "device = torch.device('cuda:0' if torch.cuda.is_available() else 'cpu')"
      ]
    },
    {
      "cell_type": "code",
      "execution_count": 3,
      "metadata": {
        "id": "G49QKcBR5XjD"
      },
      "outputs": [],
      "source": [
        "class Net(nn.Module):\n",
        "    def __init__(self):\n",
        "        super(Net, self).__init__()\n",
        "        self.feature_extractor = nn.Sequential(\n",
        "            *list(resnet18(weights=ResNet18_Weights.DEFAULT).children())[:-2])\n",
        "        self.fc = nn.Linear(512, 10)\n",
        "\n",
        "    def get_features(self, x):\n",
        "      return self.feature_extractor(x)\n",
        "\n",
        "    def forward(self, x):\n",
        "        feature = self.get_features(x)\n",
        "        return torch.softmax(self.fc(torch.flatten(feature, start_dim=1)), dim=1)"
      ]
    },
    {
      "cell_type": "code",
      "execution_count": 4,
      "metadata": {
        "id": "k6tG4B5z5XjD"
      },
      "outputs": [],
      "source": [
        "def standard_train(model, loader, num_epoch, optimizer, criterion, device=device):\n",
        "    for epoch in range(num_epoch):\n",
        "      running_loss = 0.0\n",
        "      for i, data in enumerate(loader, 0):\n",
        "          inputs, labels = data[0].to(device), data[1].to(device)\n",
        "          optimizer.zero_grad()\n",
        "          outputs = model(inputs)\n",
        "          loss = criterion(outputs, labels)\n",
        "          loss.backward()\n",
        "          optimizer.step()\n",
        "          running_loss += loss.item()\n",
        "\n",
        "      print('Epoch %d loss: %.3f' % (epoch + 1, running_loss / len(trainloader)))"
      ]
    },
    {
      "cell_type": "code",
      "execution_count": 5,
      "metadata": {
        "id": "8MRAu2Nn5XjE",
        "colab": {
          "base_uri": "https://localhost:8080/"
        },
        "outputId": "fa00a3a9-2edb-40c1-bbbc-bba9d12a6fdd"
      },
      "outputs": [
        {
          "output_type": "stream",
          "name": "stderr",
          "text": [
            "Downloading: \"https://download.pytorch.org/models/resnet18-f37072fd.pth\" to /root/.cache/torch/hub/checkpoints/resnet18-f37072fd.pth\n",
            "100%|██████████| 44.7M/44.7M [00:00<00:00, 80.4MB/s]\n"
          ]
        }
      ],
      "source": [
        "clean_model = Net().to(device)\n",
        "\n",
        "criterion = nn.CrossEntropyLoss()\n",
        "optimizer = optim.Adam(clean_model.parameters())"
      ]
    },
    {
      "cell_type": "code",
      "execution_count": 8,
      "metadata": {
        "id": "9mj4EMZO5XjE"
      },
      "outputs": [],
      "source": [
        "########################## Problem 1 (5 points) ##############################\n",
        "# TODO: Fine-tune the whole model using trainloader.                         #\n",
        "##############################################################################\n",
        "\n",
        "def fine_tune_model(model, loader, num_epoch, optimizer, criterion, device=device):\n",
        "  model.train()\n",
        "  for epoch in range(num_epoch):\n",
        "    running_loss = 0.0\n",
        "    for i, data in enumerate(loader, 0):\n",
        "      inputs, labels = data[0].to(device), data[1].to(device)\n",
        "      optimizer.zero_grad()\n",
        "      outputs = model(inputs)\n",
        "      loss = criterion(outputs, labels)\n",
        "      loss.backward()\n",
        "      optimizer.step()\n",
        "      running_loss += loss.item()\n",
        "    print('Fine-tuning Epoch %d loss: %.3f' % (epoch + 1, running_loss / len(loader)))\n",
        "\n",
        "################################ End #########################################"
      ]
    },
    {
      "cell_type": "code",
      "source": [
        "# Fine-tune the model\n",
        "fine_tune_model(clean_model, trainloader, num_epoch=5, optimizer=optimizer, criterion=criterion, device=device)\n"
      ],
      "metadata": {
        "colab": {
          "base_uri": "https://localhost:8080/"
        },
        "id": "pkqdOM7lFa7R",
        "outputId": "d96f6a8c-6cf6-41d6-8782-c0e534a8e37c"
      },
      "execution_count": 9,
      "outputs": [
        {
          "output_type": "stream",
          "name": "stdout",
          "text": [
            "Fine-tuning Epoch 1 loss: 1.935\n",
            "Fine-tuning Epoch 2 loss: 1.896\n",
            "Fine-tuning Epoch 3 loss: 1.879\n",
            "Fine-tuning Epoch 4 loss: 1.856\n",
            "Fine-tuning Epoch 5 loss: 1.845\n"
          ]
        }
      ]
    },
    {
      "cell_type": "code",
      "source": [
        "# Save the model state dictionary\n",
        "torch.save(clean_model.state_dict(), 'clean_model.pth')"
      ],
      "metadata": {
        "id": "0YnTnSt8O3gd"
      },
      "execution_count": 10,
      "outputs": []
    },
    {
      "cell_type": "code",
      "source": [
        "# # Instantiate the model\n",
        "# loaded_clean_model = Net().to(device)\n",
        "# # Load the state dictionary\n",
        "# loaded_model.load_state_dict(torch.load('clean_model.pth'))"
      ],
      "metadata": {
        "id": "BADXRZXhO4Rv"
      },
      "execution_count": 11,
      "outputs": []
    },
    {
      "cell_type": "markdown",
      "metadata": {
        "id": "60tTXQzx5XjE"
      },
      "source": [
        "# Computing clean accuracy"
      ]
    },
    {
      "cell_type": "code",
      "execution_count": 12,
      "metadata": {
        "id": "zCM5NKCh5XjF"
      },
      "outputs": [],
      "source": [
        "def standard_test(model, loader, device=device):\n",
        "  correct = 0\n",
        "  total = 0\n",
        "  model.eval()\n",
        "  with torch.no_grad():\n",
        "    for data in tqdm(loader):\n",
        "        images, labels = data\n",
        "        images = images.to(device)\n",
        "        labels = labels.to(device)\n",
        "        outputs = model(images)\n",
        "        _, predicted = torch.max(outputs.data, 1)\n",
        "        total += labels.size(0)\n",
        "        correct += (predicted == labels).sum().item()\n",
        "  print(f'\\n Clean accuracy of the network on the 10000 test images: {100 * correct / total} %')"
      ]
    },
    {
      "cell_type": "code",
      "execution_count": 13,
      "metadata": {
        "id": "v-KD3DEv5XjF",
        "colab": {
          "base_uri": "https://localhost:8080/"
        },
        "outputId": "04219254-18c6-4da8-f356-9def7111a63d"
      },
      "outputs": [
        {
          "output_type": "stream",
          "name": "stderr",
          "text": [
            "100%|██████████| 79/79 [00:27<00:00,  2.86it/s]"
          ]
        },
        {
          "output_type": "stream",
          "name": "stdout",
          "text": [
            "\n",
            " Clean accuracy of the network on the 10000 test images: 56.19 %\n"
          ]
        },
        {
          "output_type": "stream",
          "name": "stderr",
          "text": [
            "\n"
          ]
        }
      ],
      "source": [
        "standard_test(clean_model, testloader)"
      ]
    },
    {
      "cell_type": "code",
      "source": [
        "deer = testloader.dataset[100][0]"
      ],
      "metadata": {
        "id": "rrZDb-4LHRcd"
      },
      "execution_count": 14,
      "outputs": []
    },
    {
      "cell_type": "code",
      "source": [
        "def show_image(image):\n",
        "    plt.imshow(image.permute(1, 2, 0))\n",
        "    plt.title('Provided  Image')\n",
        "    plt.show()"
      ],
      "metadata": {
        "id": "ky43fFa3HT66"
      },
      "execution_count": 25,
      "outputs": []
    },
    {
      "cell_type": "code",
      "source": [
        "show_image(deer)"
      ],
      "metadata": {
        "colab": {
          "base_uri": "https://localhost:8080/",
          "height": 452
        },
        "id": "xPr4NttfHWJR",
        "outputId": "803f3aa0-cbd1-49e1-a482-3758cda636ae"
      },
      "execution_count": 26,
      "outputs": [
        {
          "output_type": "display_data",
          "data": {
            "text/plain": [
              "<Figure size 640x480 with 1 Axes>"
            ],
            "image/png": "[encoded data removed]"
          },
          "metadata": {}
        }
      ]
    },
    {
      "cell_type": "code",
      "source": [
        "def evaluate_single_image(model, image, device=device):\n",
        "    model.eval()\n",
        "    image = image.unsqueeze(0).to(device)  # Add batch dimension and move to device\n",
        "    with torch.no_grad():\n",
        "        output = model(image)\n",
        "        _, predicted = torch.max(output.data, 1)\n",
        "    return predicted.item()"
      ],
      "metadata": {
        "id": "S297ybWyHfVU"
      },
      "execution_count": 17,
      "outputs": []
    },
    {
      "cell_type": "code",
      "execution_count": 18,
      "metadata": {
        "id": "xm_B1VIH5XjF",
        "colab": {
          "base_uri": "https://localhost:8080/"
        },
        "outputId": "4b1ede1f-0573-4f9f-bc60-4181cd7117ca"
      },
      "outputs": [
        {
          "output_type": "stream",
          "name": "stdout",
          "text": [
            "Predicted label for the provided deer image: 4 (deer)\n"
          ]
        }
      ],
      "source": [
        "\n",
        "########################## Problem 2 (4 points) ##############################\n",
        "# TODO: Show the provided deer image and evaluate the model on it            #\n",
        "# (compute predicted label)                                                  #\n",
        "##############################################################################\n",
        "predicted_label = evaluate_single_image(clean_model, deer)\n",
        "print(f'Predicted label for the provided deer image: {predicted_label} ({classes[predicted_label]})')\n",
        "\n",
        "################################ End #########################################"
      ]
    },
    {
      "cell_type": "markdown",
      "metadata": {
        "id": "qJC9wIbQ5XjF"
      },
      "source": [
        "# Poisoning Attack - Last Layer Transfer Learning"
      ]
    },
    {
      "cell_type": "code",
      "execution_count": 19,
      "metadata": {
        "id": "i-aNk58x5XjG",
        "colab": {
          "base_uri": "https://localhost:8080/",
          "height": 452
        },
        "outputId": "9be0a840-40b4-4902-dff9-18991a9a4d57"
      },
      "outputs": [
        {
          "output_type": "display_data",
          "data": {
            "text/plain": [
              "<Figure size 640x480 with 1 Axes>"
            ],
            "image/png": "[encoded data removed]"
          },
          "metadata": {}
        }
      ],
      "source": [
        "truck = testloader.dataset[568][0]\n",
        "plt.imshow(truck.permute(1,2,0))\n",
        "plt.title('truck')\n",
        "plt.show()"
      ]
    },
    {
      "cell_type": "code",
      "execution_count": 20,
      "metadata": {
        "id": "j7QzrjaY5XjG"
      },
      "outputs": [],
      "source": [
        "def poisoning_example_generation(t, b, f, lmda=0.1, max_iters=10, beta=1):\n",
        "  \"\"\"\n",
        "  t: target instance\n",
        "  b: base instance\n",
        "  f: feature extractor\n",
        "  lambda: learning rate\n",
        "  \"\"\"\n",
        "########################## Problem 3 (8 points) ##############################\n",
        "# TODO: Create poisoned sample by following the algorithm you've learned.    #\n",
        "##############################################################################\n",
        "  # Clone the base instance and set requires_grad to True for optimization\n",
        "  poisoned_sample = b.clone().detach().requires_grad_(True)\n",
        "  optimizer = torch.optim.Adam([poisoned_sample], lr=lmda)\n",
        "\n",
        "  for _ in range(max_iters):\n",
        "    optimizer.zero_grad()\n",
        "\n",
        "    # Extract features for the target instance and the poisoned sample\n",
        "    target_features = f(t.unsqueeze(0))\n",
        "    poisoned_features = f(poisoned_sample.unsqueeze(0))\n",
        "\n",
        "    # Calculate the loss as the distance between the feature representations\n",
        "    loss = F.mse_loss(poisoned_features, target_features)\n",
        "\n",
        "    # Add regularization term to ensure the poisoned sample remains close to the base instance\n",
        "    regularization = beta * F.mse_loss(poisoned_sample, b)\n",
        "    total_loss = loss + regularization\n",
        "\n",
        "    # Backpropagate the loss and update the poisoned sample\n",
        "    total_loss.backward()\n",
        "    optimizer.step()\n",
        "\n",
        "\n",
        "################################ End #########################################\n",
        "\n",
        "  return poisoned_sample.detach()"
      ]
    },
    {
      "cell_type": "code",
      "source": [
        "# poisoned_sample = poisoning_example_generation(target_image, base_image, feature_extractor)"
      ],
      "metadata": {
        "id": "M5ekhPo1VCKj"
      },
      "execution_count": 21,
      "outputs": []
    },
    {
      "cell_type": "code",
      "execution_count": 22,
      "metadata": {
        "id": "aFNBQ_wX5XjG",
        "colab": {
          "base_uri": "https://localhost:8080/"
        },
        "outputId": "09b37e05-38c4-4855-c4e2-5eefe92aa47e"
      },
      "outputs": [
        {
          "output_type": "execute_result",
          "data": {
            "text/plain": [
              "Parameter containing:\n",
              "tensor([0., 0., 0., 0., 0., 0., 0., 0., 0., 0.], requires_grad=True)"
            ]
          },
          "metadata": {},
          "execution_count": 22
        }
      ],
      "source": [
        "########################## Problem 4 (6 points) ##############################\n",
        "# TODO: Copy the clean_model to a new model and name it attacked_model,      #\n",
        "# then freeze the feature extractor, finally initialize the fc layer         #\n",
        "# to random values.                                                          #\n",
        "##############################################################################\n",
        "# Copy the clean_model to attacked_model\n",
        "attacked_model = Net().to(device)\n",
        "attacked_model.load_state_dict(clean_model.state_dict())\n",
        "\n",
        "# Freeze the feature extractor\n",
        "for param in attacked_model.feature_extractor.parameters():\n",
        "    param.requires_grad = False\n",
        "\n",
        "# Initialize the fc layer to random values\n",
        "attacked_model.fc = nn.Linear(512, 10)\n",
        "nn.init.normal_(attacked_model.fc.weight, mean=0.0, std=0.01)\n",
        "nn.init.constant_(attacked_model.fc.bias, 0)\n",
        "\n",
        "\n",
        "################################ End #########################################"
      ]
    },
    {
      "cell_type": "code",
      "source": [
        "# Verify the initialization\n",
        "print(\"Feature extractor frozen:\", all(param.requires_grad == False for param in attacked_model.feature_extractor.parameters()))\n",
        "print(\"Fully connected layer weights initialized with mean=0.0 and std=0.01:\", attacked_model.fc.weight.mean().item(), attacked_model.fc.weight.std().item())"
      ],
      "metadata": {
        "colab": {
          "base_uri": "https://localhost:8080/"
        },
        "id": "zgqnyrKOV7Tk",
        "outputId": "aa18b44e-8af1-4c85-9be9-5498669d929e"
      },
      "execution_count": 23,
      "outputs": [
        {
          "output_type": "stream",
          "name": "stdout",
          "text": [
            "Feature extractor frozen: True\n",
            "Fully connected layer weights initialized with mean=0.0 and std=0.01: 5.495629920915235e-06 0.010074235498905182\n"
          ]
        }
      ]
    },
    {
      "cell_type": "code",
      "execution_count": 28,
      "metadata": {
        "id": "RUEAfF285XjG",
        "colab": {
          "base_uri": "https://localhost:8080/",
          "height": 887
        },
        "outputId": "4a3b0788-afe9-4e07-9843-1b25a9ec2469"
      },
      "outputs": [
        {
          "output_type": "display_data",
          "data": {
            "text/plain": [
              "<Figure size 640x480 with 1 Axes>"
            ],
            "image/png": "[encoded data removed]"
          },
          "metadata": {}
        },
        {
          "output_type": "display_data",
          "data": {
            "text/plain": [
              "<Figure size 640x480 with 1 Axes>"
            ],
            "image/png": "[encoded data removed]"
          },
          "metadata": {}
        }
      ],
      "source": [
        "########################## Problem 5 (3 points) ##############################\n",
        "# TODO: Create a poison sample for the truck instance and show it.           #\n",
        "# Note that you may need a back and forth procedure to create a good poison! #\n",
        "##############################################################################\n",
        "\n",
        "# Select a target instance (deer) and a base instance (truck)\n",
        "target_idx = 100  # Example index for a deer image\n",
        "base_idx = 568  # Example index for a truck image\n",
        "\n",
        "target_instance = testloader.dataset[target_idx][0]\n",
        "base_instance = testloader.dataset[base_idx][0]\n",
        "\n",
        "show_image(target_instance)\n",
        "show_image(base_instance)\n",
        "#contined in the next cell\n",
        "################################ End #########################################"
      ]
    },
    {
      "cell_type": "code",
      "source": [
        "# Feature extractor\n",
        "feature_extractor = clean_model.feature_extractor"
      ],
      "metadata": {
        "id": "AYmBzI20XN3A"
      },
      "execution_count": 29,
      "outputs": []
    },
    {
      "cell_type": "code",
      "source": [
        "# Create a poison sample\n",
        "poisoned_sample = poisoning_example_generation(target_instance, base_instance, feature_extractor)"
      ],
      "metadata": {
        "id": "ChFwT4-KYLDk"
      },
      "execution_count": 30,
      "outputs": []
    },
    {
      "cell_type": "code",
      "source": [
        "# Show the poisoned sample\n",
        "def show_image(image, title=''):\n",
        "    plt.imshow(image.permute(1, 2, 0).cpu().numpy())\n",
        "    plt.title(title)\n",
        "    plt.show()"
      ],
      "metadata": {
        "id": "oZSuBfL8YiCA"
      },
      "execution_count": 31,
      "outputs": []
    },
    {
      "cell_type": "code",
      "source": [
        "show_image(poisoned_sample, title='Poisoned Sample (Truck -> Deer)')"
      ],
      "metadata": {
        "colab": {
          "base_uri": "https://localhost:8080/",
          "height": 469
        },
        "id": "XuY65xPXYkRQ",
        "outputId": "53cff2fe-86a2-4c4a-8419-a9e696baf295"
      },
      "execution_count": 32,
      "outputs": [
        {
          "output_type": "stream",
          "name": "stderr",
          "text": [
            "WARNING:matplotlib.image:Clipping input data to the valid range for imshow with RGB data ([0..1] for floats or [0..255] for integers).\n"
          ]
        },
        {
          "output_type": "display_data",
          "data": {
            "text/plain": [
              "<Figure size 640x480 with 1 Axes>"
            ],
            "image/png": "[encoded data removed]"
          },
          "metadata": {}
        }
      ]
    },
    {
      "cell_type": "code",
      "execution_count": 33,
      "metadata": {
        "id": "O2AxeGNd5XjG"
      },
      "outputs": [],
      "source": [
        "########################## Problem 6 (3 points) ##############################\n",
        "# TODO: Add your poisoned truck to the trainloader and name it               #\n",
        "# poisoned_trainloader                                                       #\n",
        "##############################################################################\n",
        "\n",
        "poisoned_sample_label = torch.tensor([9])\n",
        "poisoned_dataset = TensorDataset(poisoned_sample.unsqueeze(0), poisoned_sample_label)\n",
        "combined_dataset = ConcatDataset([trainset, poisoned_dataset])\n",
        "poisoned_trainloader = DataLoader(combined_dataset, batch_size=batch_size, shuffle=True)\n",
        "\n",
        "################################ End #########################################"
      ]
    },
    {
      "cell_type": "code",
      "source": [
        "# Set up the optimizer to only optimize the parameters of the fc layer\n",
        "optimizer = optim.Adam(attacked_model.fc.parameters(), lr=0.001)"
      ],
      "metadata": {
        "id": "p1IQaiPPZ5Ul"
      },
      "execution_count": null,
      "outputs": []
    },
    {
      "cell_type": "code",
      "execution_count": 34,
      "metadata": {
        "id": "uKtrqY0I5XjH"
      },
      "outputs": [],
      "source": [
        "########################## Problem 7 (4 points) ##############################\n",
        "# TODO: Fine-tune the last layer of the model which is fc using              #\n",
        "# poisoned_trainloader.                                                      #\n",
        "##############################################################################\n",
        "def fine_tune_fc(model, loader, num_epoch, optimizer, criterion, device=device):\n",
        "  model.train()\n",
        "  for epoch in range(num_epoch):\n",
        "    running_loss = 0.0\n",
        "    for i, data in enumerate(loader, 0):\n",
        "      inputs, labels = data[0].to(device), data[1].to(device)\n",
        "      optimizer.zero_grad()\n",
        "      outputs = model(inputs)\n",
        "      loss = criterion(outputs, labels)\n",
        "      loss.backward()\n",
        "      optimizer.step()\n",
        "      running_loss += loss.item()\n",
        "    print('Fine-tuning Epoch %d loss: %.3f' % (epoch + 1, running_loss / len(loader)))\n",
        "\n",
        "################################ End #########################################"
      ]
    },
    {
      "cell_type": "code",
      "source": [
        "fine_tune_fc(attacked_model, poisoned_trainloader, num_epoch=5, optimizer=optimizer, criterion=criterion, device=device)"
      ],
      "metadata": {
        "colab": {
          "base_uri": "https://localhost:8080/"
        },
        "id": "Ncz_valWaWhD",
        "outputId": "328c21f9-af82-439c-8418-aa3e2a0b2014"
      },
      "execution_count": 35,
      "outputs": [
        {
          "output_type": "stream",
          "name": "stdout",
          "text": [
            "Fine-tuning Epoch 1 loss: 2.305\n",
            "Fine-tuning Epoch 2 loss: 2.305\n",
            "Fine-tuning Epoch 3 loss: 2.305\n",
            "Fine-tuning Epoch 4 loss: 2.305\n",
            "Fine-tuning Epoch 5 loss: 2.305\n"
          ]
        }
      ]
    },
    {
      "cell_type": "code",
      "execution_count": 36,
      "metadata": {
        "id": "Oa4SurQ15XjH",
        "colab": {
          "base_uri": "https://localhost:8080/"
        },
        "outputId": "68f957b4-f6e8-49c0-9945-d97632eb37a6"
      },
      "outputs": [
        {
          "output_type": "stream",
          "name": "stderr",
          "text": [
            "100%|██████████| 79/79 [00:27<00:00,  2.84it/s]"
          ]
        },
        {
          "output_type": "stream",
          "name": "stdout",
          "text": [
            "\n",
            " Clean accuracy of the network on the 10000 test images: 9.12 %\n"
          ]
        },
        {
          "output_type": "stream",
          "name": "stderr",
          "text": [
            "\n"
          ]
        }
      ],
      "source": [
        "standard_test(attacked_model, testloader)"
      ]
    },
    {
      "cell_type": "code",
      "execution_count": 37,
      "metadata": {
        "id": "qIxfhrhy5XjH"
      },
      "outputs": [],
      "source": [
        "########################## Problem 8 (2 points) ##############################\n",
        "# TODO: Now evaluate the attacked_model on the deer image.                   #\n",
        "##############################################################################\n",
        "\n",
        "def evaluate_single_image(model, image, device=device):\n",
        "    model.eval()\n",
        "    image = image.unsqueeze(0).to(device)  # Add batch dimension and move to device\n",
        "    with torch.no_grad():\n",
        "        output = model(image)\n",
        "        _, predicted = torch.max(output.data, 1)\n",
        "    return predicted.item()\n",
        "\n",
        "################################ End #########################################"
      ]
    },
    {
      "cell_type": "code",
      "source": [
        "# Evaluate the attacked_model on the deer image\n",
        "predicted_label = evaluate_single_image(attacked_model, deer)\n",
        "print(f'Predicted label for the provided deer image: {predicted_label} ({classes[predicted_label]})')"
      ],
      "metadata": {
        "colab": {
          "base_uri": "https://localhost:8080/"
        },
        "id": "0OK5PakCa7sY",
        "outputId": "1fa71627-6234-4561-966d-8546316e03ab"
      },
      "execution_count": 38,
      "outputs": [
        {
          "output_type": "stream",
          "name": "stdout",
          "text": [
            "Predicted label for the provided deer image: 5 (dog)\n"
          ]
        }
      ]
    },
    {
      "cell_type": "markdown",
      "metadata": {
        "id": "ddPSSdHX5XjH"
      },
      "source": [
        "## Analyzing the results\n",
        "Please answer these follow-up questions below them. (6 points)"
      ]
    },
    {
      "cell_type": "markdown",
      "metadata": {
        "id": "C2xl_Yin5XjH"
      },
      "source": [
        "1. Was the attack successful? Why?the attack was unsuccessful. The primary goal of the attack was to cause the model to misclassify a deer instance specifically as a truck. However, the attacked_model misclassified the deer as a dog instead. This indicates that the attack did not achieve its intended target misclassification. Additionally, the overall accuracy of the model on the clean test set dropped significantly to 9.12%, which means the attack also compromised the model's general performance and utility. Therefore, the attack failed to meet its specific objective of making the model misclassify the deer as a truck, and it also adversely affected the model's accuracy on clean data.\n",
        "1. How does choice of base instance affect the attack success? the base instance critically affects the attack's success by influencing the feature space manipulation. A base instance too dissimilar from the target may result in a poisoned sample that fails to shift the model's decision boundary effectively. Ideally, the base should be close enough in feature space to the target to allow subtle yet impactful perturbations, enhancing the likelihood of successful misclassification while maintaining overall model performance.\n",
        "\n",
        "2. How do you suggest to choose the base instance other than the random method we used? One method is to use feature similarity, where the base instance is selected based on its feature representation's closeness to the target instance, ensuring minimal perturbation is needed to achieve the desired misclassification. Another approach is to consider class proximity by choosing base instances from semantically similar classes, such as selecting a horse or dog image as the base for a deer target, due to their shared visual characteristics. Cluster analysis can also be used, where base instances are chosen from the same cluster as the target instance in the feature space, ensuring they are naturally close"
      ]
    },
    {
      "cell_type": "markdown",
      "metadata": {
        "id": "ogAuok6f5XjH"
      },
      "source": [
        "# Posioning Attack - End2End Transfer Learning"
      ]
    },
    {
      "cell_type": "code",
      "execution_count": 39,
      "metadata": {
        "id": "2Eq8xIB65XjI"
      },
      "outputs": [],
      "source": [
        "def poisoning_watermark_generation(t, b, gamma=0.1):\n",
        "  \"\"\"\n",
        "  t: target instance\n",
        "  b: base instance\n",
        "  gamma: opacity\n",
        "  \"\"\"\n",
        "########################## Problem 9 (4 points) ##############################\n",
        "# TODO: Add a low opacity watermark of the target instance to the base       #\n",
        "##############################################################################\n",
        "\n",
        "  # Ensure the images are on the same device\n",
        "  t, b = t.to(device), b.to(device)\n",
        "\n",
        "  # Calculate the weighted sum of the base and target images\n",
        "  sample = (1 - gamma) * b + gamma * t\n",
        "\n",
        "################################ End #########################################\n",
        "\n",
        "  return sample"
      ]
    },
    {
      "cell_type": "code",
      "source": [
        "# target_image = testloader.dataset[100][0]\n",
        "# base_image = testloader.dataset[200][0]\n",
        "# poisoned_sample = poisoning_watermark_generation(target_image, base_image)"
      ],
      "metadata": {
        "id": "5z59EkSvjDMw"
      },
      "execution_count": 40,
      "outputs": []
    },
    {
      "cell_type": "code",
      "source": [
        "import random\n",
        "def sample_truck_instances(testloader, num_samples=100):\n",
        "    truck_indices = [i for i, (img, label) in enumerate(testloader.dataset) if label == 9]\n",
        "    sampled_indices = random.sample(truck_indices, num_samples)\n",
        "    return sampled_indices"
      ],
      "metadata": {
        "id": "YxORuATFjme5"
      },
      "execution_count": 43,
      "outputs": []
    },
    {
      "cell_type": "code",
      "execution_count": 46,
      "metadata": {
        "id": "5c6tXRJf5XjI"
      },
      "outputs": [],
      "source": [
        "########################## Problem 10 (5 points) ##############################\n",
        "# TODO: Sample 100 instances of the truck class from the testloader randomly  #\n",
        "# and then create poison samples for them using the watermark approach.       #\n",
        "# Finaly add these poisoned samples to create poisoned_trainloader.           #\n",
        "###############################################################################\n",
        "target_instance = testloader.dataset[100][0]  # Example target instance (deer)\n",
        "# Sample 100 truck instances\n",
        "sampled_truck_indices = sample_truck_instances(testloader, num_samples=100)\n",
        "\n",
        "# Create poisoned samples\n",
        "poisoned_samples = []\n",
        "poisoned_labels = []\n",
        "for idx in sampled_truck_indices:\n",
        "    base_instance = testloader.dataset[idx][0]\n",
        "    poisoned_sample = poisoning_watermark_generation(target_instance, base_instance)\n",
        "    poisoned_samples.append(poisoned_sample)\n",
        "    poisoned_labels.append(torch.tensor(9))  # Label for truck\n",
        "\n",
        "# Convert poisoned samples to a dataset\n",
        "poisoned_samples_tensor = torch.stack(poisoned_samples)\n",
        "poisoned_labels_tensor = torch.tensor(poisoned_labels)\n",
        "poisoned_dataset2 = TensorDataset(poisoned_samples_tensor, poisoned_labels_tensor)\n",
        "\n",
        "\n",
        "# Concatenate the original trainset with the poisoned dataset\n",
        "combined_dataset2 = ConcatDataset([trainset, poisoned_dataset])\n",
        "\n",
        "\n",
        "# Create a new DataLoader with the updated dataset\n",
        "poisoned_trainloader2 = DataLoader(combined_dataset2, batch_size=batch_size, shuffle=True)\n",
        "\n",
        "\n",
        "################################ End ##########################################"
      ]
    },
    {
      "cell_type": "code",
      "source": [
        "# Verify the new DataLoader\n",
        "print(f'Original training set size: {len(trainset)}')\n",
        "print(f'Poisoned training set size: {len(combined_dataset2)}')\n",
        "print(f'Number of poisoned samples added: {len(poisoned_dataset2)}')"
      ],
      "metadata": {
        "colab": {
          "base_uri": "https://localhost:8080/"
        },
        "id": "P9idjcLqkaeL",
        "outputId": "b5ea4100-9c86-4409-ee8b-8b51d71a0942"
      },
      "execution_count": 47,
      "outputs": [
        {
          "output_type": "stream",
          "name": "stdout",
          "text": [
            "Original training set size: 50000\n",
            "Poisoned training set size: 50100\n",
            "Number of poisoned samples added: 100\n"
          ]
        }
      ]
    },
    {
      "cell_type": "code",
      "execution_count": 48,
      "metadata": {
        "id": "wkqcxfgt5XjI",
        "colab": {
          "base_uri": "https://localhost:8080/"
        },
        "outputId": "c20d042e-5efb-4584-9698-8cdcdf154d8d"
      },
      "outputs": [
        {
          "output_type": "stream",
          "name": "stdout",
          "text": [
            "All parameters trainable: True\n"
          ]
        }
      ],
      "source": [
        "########################## Problem 11 (3 points) #############################\n",
        "# TODO: copy the clean_model to a new model and name it attacked_model,      #\n",
        "# Note that all of the parameters must be trainable.                         #\n",
        "##############################################################################\n",
        "\n",
        "# Copy the clean_model to attacked_model\n",
        "attacked_model = Net().to(device)\n",
        "attacked_model.load_state_dict(clean_model.state_dict())\n",
        "\n",
        "\n",
        "# Ensure all parameters are trainable\n",
        "for param in attacked_model.parameters():\n",
        "    param.requires_grad = True\n",
        "\n",
        "# Verify that all parameters are trainable\n",
        "trainable_params = all(param.requires_grad for param in attacked_model.parameters())\n",
        "print(f'All parameters trainable: {trainable_params}')\n",
        "\n",
        "################################ End #########################################"
      ]
    },
    {
      "cell_type": "code",
      "source": [
        "# Set up the optimizer to optimize all parameters of the model\n",
        "optimizer = optim.Adam(attacked_model.parameters(), lr=0.001)\n",
        "# Fine-tune the whole model using poisoned_trainloader\n",
        "def fine_tune_model(model, loader, num_epoch, optimizer, criterion, device=device):\n",
        "    model.train()\n",
        "    for epoch in range(num_epoch):\n",
        "        running_loss = 0.0\n",
        "        for i, data in enumerate(loader, 0):\n",
        "            inputs, labels = data[0].to(device), data[1].to(device)\n",
        "            optimizer.zero_grad()\n",
        "            outputs = model(inputs)\n",
        "            loss = criterion(outputs, labels)\n",
        "            loss.backward()\n",
        "            optimizer.step()\n",
        "            running_loss += loss.item()\n",
        "        print(f'Fine-tuning Epoch {epoch + 1} loss: {running_loss / len(loader):.3f}')\n"
      ],
      "metadata": {
        "id": "k1IsKBSPnzaI"
      },
      "execution_count": 49,
      "outputs": []
    },
    {
      "cell_type": "code",
      "execution_count": 50,
      "metadata": {
        "id": "KM4_aaMK5XjI",
        "colab": {
          "base_uri": "https://localhost:8080/"
        },
        "outputId": "bbd4578d-5b4b-41f6-c912-1399013c0aa9"
      },
      "outputs": [
        {
          "output_type": "stream",
          "name": "stdout",
          "text": [
            "Fine-tuning Epoch 1 loss: 1.854\n"
          ]
        }
      ],
      "source": [
        "########################## Problem 12 (3 points) ##############################\n",
        "# TODO: Fine-tune the whole model using poisoned_trainloader.                 #\n",
        "###############################################################################\n",
        "\n",
        "fine_tune_model(attacked_model, poisoned_trainloader, num_epoch=1, optimizer=optimizer, criterion=criterion, device=device)\n",
        "\n",
        "################################ End ##########################################"
      ]
    },
    {
      "cell_type": "code",
      "execution_count": 51,
      "metadata": {
        "id": "2JW04NxI5XjI",
        "colab": {
          "base_uri": "https://localhost:8080/"
        },
        "outputId": "93bf44b8-01f6-44b8-96be-ee5410539d8b"
      },
      "outputs": [
        {
          "output_type": "stream",
          "name": "stderr",
          "text": [
            "100%|██████████| 79/79 [00:27<00:00,  2.88it/s]"
          ]
        },
        {
          "output_type": "stream",
          "name": "stdout",
          "text": [
            "\n",
            " Clean accuracy of the network on the 10000 test images: 59.24 %\n"
          ]
        },
        {
          "output_type": "stream",
          "name": "stderr",
          "text": [
            "\n"
          ]
        }
      ],
      "source": [
        "standard_test(attacked_model, testloader)"
      ]
    },
    {
      "cell_type": "code",
      "execution_count": 52,
      "metadata": {
        "id": "Ipw-JB1r5XjI",
        "colab": {
          "base_uri": "https://localhost:8080/"
        },
        "outputId": "1644306e-a210-4817-b8d5-f26c7bd079e2"
      },
      "outputs": [
        {
          "output_type": "stream",
          "name": "stdout",
          "text": [
            "Predicted label for the provided deer image: 4 (deer)\n"
          ]
        }
      ],
      "source": [
        "########################## Problem 13 (2 points) #############################\n",
        "# TODO: Now evaluate the attacked_model on the deer image.                   #\n",
        "##############################################################################\n",
        "\n",
        "predicted_label = evaluate_single_image(attacked_model, deer)\n",
        "print(f'Predicted label for the provided deer image: {predicted_label} ({classes[predicted_label]})')\n",
        "################################ End #########################################"
      ]
    },
    {
      "cell_type": "markdown",
      "metadata": {
        "id": "wSgJw5aM5XjJ"
      },
      "source": [
        "## Analyzing the results\n",
        "Please answer this follow-up questions below it. (2 points)"
      ]
    },
    {
      "cell_type": "markdown",
      "metadata": {
        "id": "r2MYIq8G5XjJ"
      },
      "source": [
        "1. How do the poisons have different effect on the model in two transfer learning scenarios you investiagted?\n",
        "the effects of the poisoned samples on the model varied significantly due to the differences in how the models were fine-tuned. In the first scenario, where only the last layer (fc) was fine-tuned while freezing the feature extractor, the attack was somewhat constrained to influence only the final classification layer. This resulted in a targeted misclassification, but the overall clean accuracy of the model dropped significantly, indicating that the attack disrupted the final decision-making process. In the second scenario, where the entire model was fine-tuned with all parameters trainable, the poisoned samples had a more pervasive effect, leading to a broader shift in the model's learned representations. This comprehensive adjustment allowed the attack to be more integrated into the model's behavior, potentially causing more extensive misclassifications, but also had the downside of potentially degrading the model's overall performance if not managed carefully. Thus, the extent and nature of the model adjustments due to poisoning varied between the two scenarios, with the first scenario showing more localized but significant impact on the final layer, and the second showing a more distributed impact across the entire model."
      ]
    },
    {
      "cell_type": "code",
      "source": [],
      "metadata": {
        "id": "PlibSBEDrKBw"
      },
      "execution_count": null,
      "outputs": []
    }
  ],
  "metadata": {
    "language_info": {
      "name": "python"
    },
    "colab": {
      "provenance": []
    },
    "kernelspec": {
      "name": "python3",
      "display_name": "Python 3"
    }
  },
  "nbformat": 4,
  "nbformat_minor": 0
}